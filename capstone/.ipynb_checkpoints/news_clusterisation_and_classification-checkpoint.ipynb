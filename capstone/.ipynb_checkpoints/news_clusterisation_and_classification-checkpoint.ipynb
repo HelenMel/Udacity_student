{
 "cells": [
  {
   "cell_type": "markdown",
   "metadata": {},
   "source": [
    "# News Clusterisation and Classification #\n",
    "\n",
    "After that, data could be applied for classification. There should be 3 models to compare: benchmark model (SVM) and 2 solutions models: DBSCAN and K-Means. Each model could generate K clusters. For each cluster 10 samples will be selected and labeled manually. After that LabelPropagation will be used to label rest of the dataset. Finally, for each model will be trained the same SVM classifier with fully labeled dataset. First solution would use only default parameters for each model. Then, each model should be tuned with GridSearchCV6    from sklearn library. Second solution will use improved classifiers.\n",
    "Finally, there should be a table with final f-score result for each model. Additional table should be added to show running time of each model. Conclusion should include results, best model and result, if it could be used on practice."
   ]
  },
  {
   "cell_type": "markdown",
   "metadata": {},
   "source": [
    "Semi-supervised approach shoud be used, so first step is to break news data to clusters"
   ]
  },
  {
   "cell_type": "code",
   "execution_count": 2,
   "metadata": {
    "collapsed": false
   },
   "outputs": [
    {
     "data": {
      "text/html": [
       "<div>\n",
       "<table border=\"1\" class=\"dataframe\">\n",
       "  <thead>\n",
       "    <tr style=\"text-align: right;\">\n",
       "      <th></th>\n",
       "      <th>emo</th>\n",
       "      <th>emo_text_points</th>\n",
       "      <th>judg</th>\n",
       "      <th>neg</th>\n",
       "      <th>negations</th>\n",
       "      <th>obj</th>\n",
       "      <th>pos</th>\n",
       "      <th>hate</th>\n",
       "      <th>aggressive</th>\n",
       "    </tr>\n",
       "  </thead>\n",
       "  <tbody>\n",
       "    <tr>\n",
       "      <th>0</th>\n",
       "      <td>2</td>\n",
       "      <td>4</td>\n",
       "      <td>0</td>\n",
       "      <td>0.016797</td>\n",
       "      <td>0</td>\n",
       "      <td>0.900781</td>\n",
       "      <td>0.002734</td>\n",
       "      <td>0</td>\n",
       "      <td>NaN</td>\n",
       "    </tr>\n",
       "    <tr>\n",
       "      <th>1</th>\n",
       "      <td>0</td>\n",
       "      <td>5</td>\n",
       "      <td>0</td>\n",
       "      <td>0.017617</td>\n",
       "      <td>1</td>\n",
       "      <td>0.865038</td>\n",
       "      <td>0.014786</td>\n",
       "      <td>0</td>\n",
       "      <td>NaN</td>\n",
       "    </tr>\n",
       "    <tr>\n",
       "      <th>2</th>\n",
       "      <td>0</td>\n",
       "      <td>2</td>\n",
       "      <td>0</td>\n",
       "      <td>0.018614</td>\n",
       "      <td>1</td>\n",
       "      <td>0.898641</td>\n",
       "      <td>0.007473</td>\n",
       "      <td>0</td>\n",
       "      <td>NaN</td>\n",
       "    </tr>\n",
       "    <tr>\n",
       "      <th>3</th>\n",
       "      <td>0</td>\n",
       "      <td>3</td>\n",
       "      <td>1</td>\n",
       "      <td>0.033203</td>\n",
       "      <td>1</td>\n",
       "      <td>0.786458</td>\n",
       "      <td>0.044922</td>\n",
       "      <td>0</td>\n",
       "      <td>NaN</td>\n",
       "    </tr>\n",
       "    <tr>\n",
       "      <th>4</th>\n",
       "      <td>1</td>\n",
       "      <td>9</td>\n",
       "      <td>0</td>\n",
       "      <td>0.017221</td>\n",
       "      <td>4</td>\n",
       "      <td>0.860215</td>\n",
       "      <td>0.026798</td>\n",
       "      <td>0</td>\n",
       "      <td>NaN</td>\n",
       "    </tr>\n",
       "    <tr>\n",
       "      <th>5</th>\n",
       "      <td>1</td>\n",
       "      <td>5</td>\n",
       "      <td>0</td>\n",
       "      <td>0.058520</td>\n",
       "      <td>0</td>\n",
       "      <td>0.794664</td>\n",
       "      <td>0.020342</td>\n",
       "      <td>0</td>\n",
       "      <td>NaN</td>\n",
       "    </tr>\n",
       "    <tr>\n",
       "      <th>6</th>\n",
       "      <td>0</td>\n",
       "      <td>31</td>\n",
       "      <td>1</td>\n",
       "      <td>0.027842</td>\n",
       "      <td>9</td>\n",
       "      <td>0.844425</td>\n",
       "      <td>0.027099</td>\n",
       "      <td>0</td>\n",
       "      <td>NaN</td>\n",
       "    </tr>\n",
       "    <tr>\n",
       "      <th>7</th>\n",
       "      <td>0</td>\n",
       "      <td>9</td>\n",
       "      <td>0</td>\n",
       "      <td>0.027715</td>\n",
       "      <td>4</td>\n",
       "      <td>0.864395</td>\n",
       "      <td>0.016403</td>\n",
       "      <td>0</td>\n",
       "      <td>NaN</td>\n",
       "    </tr>\n",
       "    <tr>\n",
       "      <th>8</th>\n",
       "      <td>1</td>\n",
       "      <td>10</td>\n",
       "      <td>0</td>\n",
       "      <td>0.017058</td>\n",
       "      <td>2</td>\n",
       "      <td>0.895929</td>\n",
       "      <td>0.015338</td>\n",
       "      <td>0</td>\n",
       "      <td>NaN</td>\n",
       "    </tr>\n",
       "    <tr>\n",
       "      <th>9</th>\n",
       "      <td>1</td>\n",
       "      <td>7</td>\n",
       "      <td>0</td>\n",
       "      <td>0.037671</td>\n",
       "      <td>3</td>\n",
       "      <td>0.831550</td>\n",
       "      <td>0.013485</td>\n",
       "      <td>0</td>\n",
       "      <td>NaN</td>\n",
       "    </tr>\n",
       "  </tbody>\n",
       "</table>\n",
       "</div>"
      ],
      "text/plain": [
       "   emo  emo_text_points  judg       neg  negations       obj       pos  hate  \\\n",
       "0    2                4     0  0.016797          0  0.900781  0.002734     0   \n",
       "1    0                5     0  0.017617          1  0.865038  0.014786     0   \n",
       "2    0                2     0  0.018614          1  0.898641  0.007473     0   \n",
       "3    0                3     1  0.033203          1  0.786458  0.044922     0   \n",
       "4    1                9     0  0.017221          4  0.860215  0.026798     0   \n",
       "5    1                5     0  0.058520          0  0.794664  0.020342     0   \n",
       "6    0               31     1  0.027842          9  0.844425  0.027099     0   \n",
       "7    0                9     0  0.027715          4  0.864395  0.016403     0   \n",
       "8    1               10     0  0.017058          2  0.895929  0.015338     0   \n",
       "9    1                7     0  0.037671          3  0.831550  0.013485     0   \n",
       "\n",
       "   aggressive  \n",
       "0         NaN  \n",
       "1         NaN  \n",
       "2         NaN  \n",
       "3         NaN  \n",
       "4         NaN  \n",
       "5         NaN  \n",
       "6         NaN  \n",
       "7         NaN  \n",
       "8         NaN  \n",
       "9         NaN  "
      ]
     },
     "execution_count": 2,
     "metadata": {},
     "output_type": "execute_result"
    }
   ],
   "source": [
    "import numpy as np\n",
    "import pandas as pd\n",
    "\n",
    "newsFeatures = pd.read_csv('news_featured.csv', sep='\\t')\n",
    "newsFeatures.head(10)"
   ]
  },
  {
   "cell_type": "code",
   "execution_count": null,
   "metadata": {
    "collapsed": true
   },
   "outputs": [],
   "source": [
    "# TODO: create DBSCAN, K-MEAN, SVM as clusteriser(is this possible)\n",
    "from sklearn.cluster import DBSCAN\n",
    "from sklearn.cluster import Kmeans\n"
   ]
  },
  {
   "cell_type": "code",
   "execution_count": null,
   "metadata": {
    "collapsed": true
   },
   "outputs": [],
   "source": [
    "# TODO: Fit the Data"
   ]
  },
  {
   "cell_type": "code",
   "execution_count": 1,
   "metadata": {
    "collapsed": true
   },
   "outputs": [],
   "source": [
    "# TODO: Find out how to visualise clusters.\n",
    "# TODO: What statistic to use.\n"
   ]
  },
  {
   "cell_type": "code",
   "execution_count": null,
   "metadata": {
    "collapsed": true
   },
   "outputs": [],
   "source": [
    "# TODO identify was the clustering good. How many clusters was unclassified? Compares clasters distribution. \n",
    "# Identify early step result."
   ]
  }
 ],
 "metadata": {
  "kernelspec": {
   "display_name": "Python [python2]",
   "language": "python",
   "name": "Python [python2]"
  },
  "language_info": {
   "codemirror_mode": {
    "name": "ipython",
    "version": 2
   },
   "file_extension": ".py",
   "mimetype": "text/x-python",
   "name": "python",
   "nbconvert_exporter": "python",
   "pygments_lexer": "ipython2",
   "version": "2.7.12"
  }
 },
 "nbformat": 4,
 "nbformat_minor": 0
}
