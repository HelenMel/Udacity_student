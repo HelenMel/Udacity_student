{
 "cells": [
  {
   "cell_type": "markdown",
   "metadata": {},
   "source": [
    "# News Clusterisation and Classification #\n",
    "\n",
    "After that, data could be applied for classification. There should be 3 models to compare: benchmark model (SVM) and 2 solutions models: DBSCAN and K-Means. Each model could generate K clusters. For each cluster 10 samples will be selected and labeled manually. After that LabelPropagation will be used to label rest of the dataset. Finally, for each model will be trained the same SVM classifier with fully labeled dataset. First solution would use only default parameters for each model. Then, each model should be tuned with GridSearchCV6    from sklearn library. Second solution will use improved classifiers.\n",
    "Finally, there should be a table with final f-score result for each model. Additional table should be added to show running time of each model. Conclusion should include results, best model and result, if it could be used on practice."
   ]
  },
  {
   "cell_type": "markdown",
   "metadata": {},
   "source": [
    "Semi-supervised approach shoud be used, so first step is to break news data to clusters"
   ]
  },
  {
   "cell_type": "code",
   "execution_count": 1,
   "metadata": {
    "collapsed": false
   },
   "outputs": [
    {
     "data": {
      "text/html": [
       "<div>\n",
       "<table border=\"1\" class=\"dataframe\">\n",
       "  <thead>\n",
       "    <tr style=\"text-align: right;\">\n",
       "      <th></th>\n",
       "      <th>emo</th>\n",
       "      <th>emo_text_points</th>\n",
       "      <th>judg</th>\n",
       "      <th>neg</th>\n",
       "      <th>negations</th>\n",
       "      <th>obj</th>\n",
       "      <th>pos</th>\n",
       "      <th>hate</th>\n",
       "      <th>aggressive</th>\n",
       "    </tr>\n",
       "  </thead>\n",
       "  <tbody>\n",
       "    <tr>\n",
       "      <th>0</th>\n",
       "      <td>2</td>\n",
       "      <td>4</td>\n",
       "      <td>0</td>\n",
       "      <td>0.016797</td>\n",
       "      <td>0</td>\n",
       "      <td>0.900781</td>\n",
       "      <td>0.002734</td>\n",
       "      <td>0</td>\n",
       "      <td>NaN</td>\n",
       "    </tr>\n",
       "    <tr>\n",
       "      <th>1</th>\n",
       "      <td>0</td>\n",
       "      <td>5</td>\n",
       "      <td>0</td>\n",
       "      <td>0.017617</td>\n",
       "      <td>1</td>\n",
       "      <td>0.865038</td>\n",
       "      <td>0.014786</td>\n",
       "      <td>0</td>\n",
       "      <td>NaN</td>\n",
       "    </tr>\n",
       "    <tr>\n",
       "      <th>2</th>\n",
       "      <td>0</td>\n",
       "      <td>2</td>\n",
       "      <td>0</td>\n",
       "      <td>0.018614</td>\n",
       "      <td>1</td>\n",
       "      <td>0.898641</td>\n",
       "      <td>0.007473</td>\n",
       "      <td>0</td>\n",
       "      <td>NaN</td>\n",
       "    </tr>\n",
       "    <tr>\n",
       "      <th>3</th>\n",
       "      <td>0</td>\n",
       "      <td>3</td>\n",
       "      <td>1</td>\n",
       "      <td>0.033203</td>\n",
       "      <td>1</td>\n",
       "      <td>0.786458</td>\n",
       "      <td>0.044922</td>\n",
       "      <td>0</td>\n",
       "      <td>NaN</td>\n",
       "    </tr>\n",
       "    <tr>\n",
       "      <th>4</th>\n",
       "      <td>1</td>\n",
       "      <td>9</td>\n",
       "      <td>0</td>\n",
       "      <td>0.017221</td>\n",
       "      <td>4</td>\n",
       "      <td>0.860215</td>\n",
       "      <td>0.026798</td>\n",
       "      <td>0</td>\n",
       "      <td>NaN</td>\n",
       "    </tr>\n",
       "    <tr>\n",
       "      <th>5</th>\n",
       "      <td>1</td>\n",
       "      <td>5</td>\n",
       "      <td>0</td>\n",
       "      <td>0.058520</td>\n",
       "      <td>0</td>\n",
       "      <td>0.794664</td>\n",
       "      <td>0.020342</td>\n",
       "      <td>0</td>\n",
       "      <td>NaN</td>\n",
       "    </tr>\n",
       "    <tr>\n",
       "      <th>6</th>\n",
       "      <td>0</td>\n",
       "      <td>31</td>\n",
       "      <td>1</td>\n",
       "      <td>0.027842</td>\n",
       "      <td>9</td>\n",
       "      <td>0.844425</td>\n",
       "      <td>0.027099</td>\n",
       "      <td>0</td>\n",
       "      <td>NaN</td>\n",
       "    </tr>\n",
       "    <tr>\n",
       "      <th>7</th>\n",
       "      <td>0</td>\n",
       "      <td>9</td>\n",
       "      <td>0</td>\n",
       "      <td>0.027715</td>\n",
       "      <td>4</td>\n",
       "      <td>0.864395</td>\n",
       "      <td>0.016403</td>\n",
       "      <td>0</td>\n",
       "      <td>NaN</td>\n",
       "    </tr>\n",
       "    <tr>\n",
       "      <th>8</th>\n",
       "      <td>1</td>\n",
       "      <td>10</td>\n",
       "      <td>0</td>\n",
       "      <td>0.017058</td>\n",
       "      <td>2</td>\n",
       "      <td>0.895929</td>\n",
       "      <td>0.015338</td>\n",
       "      <td>0</td>\n",
       "      <td>NaN</td>\n",
       "    </tr>\n",
       "    <tr>\n",
       "      <th>9</th>\n",
       "      <td>1</td>\n",
       "      <td>7</td>\n",
       "      <td>0</td>\n",
       "      <td>0.037671</td>\n",
       "      <td>3</td>\n",
       "      <td>0.831550</td>\n",
       "      <td>0.013485</td>\n",
       "      <td>0</td>\n",
       "      <td>NaN</td>\n",
       "    </tr>\n",
       "  </tbody>\n",
       "</table>\n",
       "</div>"
      ],
      "text/plain": [
       "   emo  emo_text_points  judg       neg  negations       obj       pos  hate  \\\n",
       "0    2                4     0  0.016797          0  0.900781  0.002734     0   \n",
       "1    0                5     0  0.017617          1  0.865038  0.014786     0   \n",
       "2    0                2     0  0.018614          1  0.898641  0.007473     0   \n",
       "3    0                3     1  0.033203          1  0.786458  0.044922     0   \n",
       "4    1                9     0  0.017221          4  0.860215  0.026798     0   \n",
       "5    1                5     0  0.058520          0  0.794664  0.020342     0   \n",
       "6    0               31     1  0.027842          9  0.844425  0.027099     0   \n",
       "7    0                9     0  0.027715          4  0.864395  0.016403     0   \n",
       "8    1               10     0  0.017058          2  0.895929  0.015338     0   \n",
       "9    1                7     0  0.037671          3  0.831550  0.013485     0   \n",
       "\n",
       "   aggressive  \n",
       "0         NaN  \n",
       "1         NaN  \n",
       "2         NaN  \n",
       "3         NaN  \n",
       "4         NaN  \n",
       "5         NaN  \n",
       "6         NaN  \n",
       "7         NaN  \n",
       "8         NaN  \n",
       "9         NaN  "
      ]
     },
     "execution_count": 1,
     "metadata": {},
     "output_type": "execute_result"
    }
   ],
   "source": [
    "import numpy as np\n",
    "import pandas as pd\n",
    "\n",
    "newsData = pd.read_csv('news_featured.csv', sep='\\t')\n",
    "newsData.head(10)"
   ]
  },
  {
   "cell_type": "code",
   "execution_count": 2,
   "metadata": {
    "collapsed": false
   },
   "outputs": [
    {
     "data": {
      "text/html": [
       "<div>\n",
       "<table border=\"1\" class=\"dataframe\">\n",
       "  <thead>\n",
       "    <tr style=\"text-align: right;\">\n",
       "      <th></th>\n",
       "      <th>emo</th>\n",
       "      <th>emo_text_points</th>\n",
       "      <th>judg</th>\n",
       "      <th>neg</th>\n",
       "      <th>negations</th>\n",
       "      <th>obj</th>\n",
       "      <th>pos</th>\n",
       "    </tr>\n",
       "  </thead>\n",
       "  <tbody>\n",
       "    <tr>\n",
       "      <th>0</th>\n",
       "      <td>2</td>\n",
       "      <td>4</td>\n",
       "      <td>0</td>\n",
       "      <td>0.016797</td>\n",
       "      <td>0</td>\n",
       "      <td>0.900781</td>\n",
       "      <td>0.002734</td>\n",
       "    </tr>\n",
       "    <tr>\n",
       "      <th>1</th>\n",
       "      <td>0</td>\n",
       "      <td>5</td>\n",
       "      <td>0</td>\n",
       "      <td>0.017617</td>\n",
       "      <td>1</td>\n",
       "      <td>0.865038</td>\n",
       "      <td>0.014786</td>\n",
       "    </tr>\n",
       "    <tr>\n",
       "      <th>2</th>\n",
       "      <td>0</td>\n",
       "      <td>2</td>\n",
       "      <td>0</td>\n",
       "      <td>0.018614</td>\n",
       "      <td>1</td>\n",
       "      <td>0.898641</td>\n",
       "      <td>0.007473</td>\n",
       "    </tr>\n",
       "    <tr>\n",
       "      <th>3</th>\n",
       "      <td>0</td>\n",
       "      <td>3</td>\n",
       "      <td>1</td>\n",
       "      <td>0.033203</td>\n",
       "      <td>1</td>\n",
       "      <td>0.786458</td>\n",
       "      <td>0.044922</td>\n",
       "    </tr>\n",
       "    <tr>\n",
       "      <th>4</th>\n",
       "      <td>1</td>\n",
       "      <td>9</td>\n",
       "      <td>0</td>\n",
       "      <td>0.017221</td>\n",
       "      <td>4</td>\n",
       "      <td>0.860215</td>\n",
       "      <td>0.026798</td>\n",
       "    </tr>\n",
       "    <tr>\n",
       "      <th>5</th>\n",
       "      <td>1</td>\n",
       "      <td>5</td>\n",
       "      <td>0</td>\n",
       "      <td>0.058520</td>\n",
       "      <td>0</td>\n",
       "      <td>0.794664</td>\n",
       "      <td>0.020342</td>\n",
       "    </tr>\n",
       "    <tr>\n",
       "      <th>6</th>\n",
       "      <td>0</td>\n",
       "      <td>31</td>\n",
       "      <td>1</td>\n",
       "      <td>0.027842</td>\n",
       "      <td>9</td>\n",
       "      <td>0.844425</td>\n",
       "      <td>0.027099</td>\n",
       "    </tr>\n",
       "    <tr>\n",
       "      <th>7</th>\n",
       "      <td>0</td>\n",
       "      <td>9</td>\n",
       "      <td>0</td>\n",
       "      <td>0.027715</td>\n",
       "      <td>4</td>\n",
       "      <td>0.864395</td>\n",
       "      <td>0.016403</td>\n",
       "    </tr>\n",
       "    <tr>\n",
       "      <th>8</th>\n",
       "      <td>1</td>\n",
       "      <td>10</td>\n",
       "      <td>0</td>\n",
       "      <td>0.017058</td>\n",
       "      <td>2</td>\n",
       "      <td>0.895929</td>\n",
       "      <td>0.015338</td>\n",
       "    </tr>\n",
       "    <tr>\n",
       "      <th>9</th>\n",
       "      <td>1</td>\n",
       "      <td>7</td>\n",
       "      <td>0</td>\n",
       "      <td>0.037671</td>\n",
       "      <td>3</td>\n",
       "      <td>0.831550</td>\n",
       "      <td>0.013485</td>\n",
       "    </tr>\n",
       "  </tbody>\n",
       "</table>\n",
       "</div>"
      ],
      "text/plain": [
       "   emo  emo_text_points  judg       neg  negations       obj       pos\n",
       "0    2                4     0  0.016797          0  0.900781  0.002734\n",
       "1    0                5     0  0.017617          1  0.865038  0.014786\n",
       "2    0                2     0  0.018614          1  0.898641  0.007473\n",
       "3    0                3     1  0.033203          1  0.786458  0.044922\n",
       "4    1                9     0  0.017221          4  0.860215  0.026798\n",
       "5    1                5     0  0.058520          0  0.794664  0.020342\n",
       "6    0               31     1  0.027842          9  0.844425  0.027099\n",
       "7    0                9     0  0.027715          4  0.864395  0.016403\n",
       "8    1               10     0  0.017058          2  0.895929  0.015338\n",
       "9    1                7     0  0.037671          3  0.831550  0.013485"
      ]
     },
     "execution_count": 2,
     "metadata": {},
     "output_type": "execute_result"
    }
   ],
   "source": [
    "# TODO: Data for clusterisation should not contains NaN\n",
    "# So, 'hate' and 'aggressive' should be removed\n",
    "\n",
    "newsFeatures = newsData.ix[:, 0:7]\n",
    "newsFeatures.head(10)"
   ]
  },
  {
   "cell_type": "code",
   "execution_count": 3,
   "metadata": {
    "collapsed": true
   },
   "outputs": [],
   "source": [
    "# TODO: create DBSCAN, K-MEAN, SVM as clusteriser(is this possible)\n",
    "from sklearn.cluster import MiniBatchKMeans, DBSCAN\n",
    "\n",
    "dbscan = DBSCAN(min_samples=20)\n",
    "\n",
    "K=30\n",
    "# Use elbow method to tune this parameter\n",
    "kmeans = MiniBatchKMeans(n_clusters=K)"
   ]
  },
  {
   "cell_type": "code",
   "execution_count": 4,
   "metadata": {
    "collapsed": true
   },
   "outputs": [],
   "source": [
    "from time import time\n",
    "\n",
    "def train_cluster(clf, X_train):\n",
    "    ''' Fits a clustering model to the training data. '''\n",
    "    \n",
    "    start = time()\n",
    "    clf.fit(X_train)\n",
    "    end = time()\n",
    "    \n",
    "    # Print the results\n",
    "    print \"Trained model in {:.4f} seconds\".format(end - start)"
   ]
  },
  {
   "cell_type": "code",
   "execution_count": 5,
   "metadata": {
    "collapsed": false
   },
   "outputs": [
    {
     "name": "stdout",
     "output_type": "stream",
     "text": [
      "Trained model in 0.2037 seconds\n"
     ]
    }
   ],
   "source": [
    "train_cluster(dbscan, newsFeatures)"
   ]
  },
  {
   "cell_type": "code",
   "execution_count": 6,
   "metadata": {
    "collapsed": true
   },
   "outputs": [
    {
     "name": "stdout",
     "output_type": "stream",
     "text": [
      "Trained model in 0.1679 seconds\n"
     ]
    },
    {
     "name": "stderr",
     "output_type": "stream",
     "text": [
      "/Users/olena/anaconda3/envs/python2/lib/python2.7/site-packages/sklearn/cluster/k_means_.py:1279: DeprecationWarning: This function is deprecated. Please call randint(0, 12247 + 1) instead\n",
      "  0, n_samples - 1, init_size)\n",
      "/Users/olena/anaconda3/envs/python2/lib/python2.7/site-packages/sklearn/cluster/k_means_.py:630: DeprecationWarning: This function is deprecated. Please call randint(0, 12247 + 1) instead\n",
      "  0, n_samples - 1, init_size)\n",
      "/Users/olena/anaconda3/envs/python2/lib/python2.7/site-packages/sklearn/cluster/k_means_.py:630: DeprecationWarning: This function is deprecated. Please call randint(0, 12247 + 1) instead\n",
      "  0, n_samples - 1, init_size)\n",
      "/Users/olena/anaconda3/envs/python2/lib/python2.7/site-packages/sklearn/cluster/k_means_.py:630: DeprecationWarning: This function is deprecated. Please call randint(0, 12247 + 1) instead\n",
      "  0, n_samples - 1, init_size)\n",
      "/Users/olena/anaconda3/envs/python2/lib/python2.7/site-packages/sklearn/cluster/k_means_.py:1328: DeprecationWarning: This function is deprecated. Please call randint(0, 12247 + 1) instead\n",
      "  0, n_samples - 1, self.batch_size)\n",
      "/Users/olena/anaconda3/envs/python2/lib/python2.7/site-packages/sklearn/cluster/k_means_.py:1328: DeprecationWarning: This function is deprecated. Please call randint(0, 12247 + 1) instead\n",
      "  0, n_samples - 1, self.batch_size)\n",
      "/Users/olena/anaconda3/envs/python2/lib/python2.7/site-packages/sklearn/cluster/k_means_.py:1328: DeprecationWarning: This function is deprecated. Please call randint(0, 12247 + 1) instead\n",
      "  0, n_samples - 1, self.batch_size)\n",
      "/Users/olena/anaconda3/envs/python2/lib/python2.7/site-packages/sklearn/cluster/k_means_.py:1328: DeprecationWarning: This function is deprecated. Please call randint(0, 12247 + 1) instead\n",
      "  0, n_samples - 1, self.batch_size)\n",
      "/Users/olena/anaconda3/envs/python2/lib/python2.7/site-packages/sklearn/cluster/k_means_.py:1328: DeprecationWarning: This function is deprecated. Please call randint(0, 12247 + 1) instead\n",
      "  0, n_samples - 1, self.batch_size)\n",
      "/Users/olena/anaconda3/envs/python2/lib/python2.7/site-packages/sklearn/cluster/k_means_.py:1328: DeprecationWarning: This function is deprecated. Please call randint(0, 12247 + 1) instead\n",
      "  0, n_samples - 1, self.batch_size)\n",
      "/Users/olena/anaconda3/envs/python2/lib/python2.7/site-packages/sklearn/cluster/k_means_.py:1328: DeprecationWarning: This function is deprecated. Please call randint(0, 12247 + 1) instead\n",
      "  0, n_samples - 1, self.batch_size)\n",
      "/Users/olena/anaconda3/envs/python2/lib/python2.7/site-packages/sklearn/cluster/k_means_.py:1328: DeprecationWarning: This function is deprecated. Please call randint(0, 12247 + 1) instead\n",
      "  0, n_samples - 1, self.batch_size)\n",
      "/Users/olena/anaconda3/envs/python2/lib/python2.7/site-packages/sklearn/cluster/k_means_.py:1328: DeprecationWarning: This function is deprecated. Please call randint(0, 12247 + 1) instead\n",
      "  0, n_samples - 1, self.batch_size)\n",
      "/Users/olena/anaconda3/envs/python2/lib/python2.7/site-packages/sklearn/cluster/k_means_.py:1328: DeprecationWarning: This function is deprecated. Please call randint(0, 12247 + 1) instead\n",
      "  0, n_samples - 1, self.batch_size)\n",
      "/Users/olena/anaconda3/envs/python2/lib/python2.7/site-packages/sklearn/cluster/k_means_.py:1328: DeprecationWarning: This function is deprecated. Please call randint(0, 12247 + 1) instead\n",
      "  0, n_samples - 1, self.batch_size)\n",
      "/Users/olena/anaconda3/envs/python2/lib/python2.7/site-packages/sklearn/cluster/k_means_.py:1328: DeprecationWarning: This function is deprecated. Please call randint(0, 12247 + 1) instead\n",
      "  0, n_samples - 1, self.batch_size)\n",
      "/Users/olena/anaconda3/envs/python2/lib/python2.7/site-packages/sklearn/cluster/k_means_.py:1328: DeprecationWarning: This function is deprecated. Please call randint(0, 12247 + 1) instead\n",
      "  0, n_samples - 1, self.batch_size)\n",
      "/Users/olena/anaconda3/envs/python2/lib/python2.7/site-packages/sklearn/cluster/k_means_.py:1328: DeprecationWarning: This function is deprecated. Please call randint(0, 12247 + 1) instead\n",
      "  0, n_samples - 1, self.batch_size)\n",
      "/Users/olena/anaconda3/envs/python2/lib/python2.7/site-packages/sklearn/cluster/k_means_.py:1328: DeprecationWarning: This function is deprecated. Please call randint(0, 12247 + 1) instead\n",
      "  0, n_samples - 1, self.batch_size)\n",
      "/Users/olena/anaconda3/envs/python2/lib/python2.7/site-packages/sklearn/cluster/k_means_.py:1328: DeprecationWarning: This function is deprecated. Please call randint(0, 12247 + 1) instead\n",
      "  0, n_samples - 1, self.batch_size)\n",
      "/Users/olena/anaconda3/envs/python2/lib/python2.7/site-packages/sklearn/cluster/k_means_.py:1328: DeprecationWarning: This function is deprecated. Please call randint(0, 12247 + 1) instead\n",
      "  0, n_samples - 1, self.batch_size)\n",
      "/Users/olena/anaconda3/envs/python2/lib/python2.7/site-packages/sklearn/cluster/k_means_.py:1328: DeprecationWarning: This function is deprecated. Please call randint(0, 12247 + 1) instead\n",
      "  0, n_samples - 1, self.batch_size)\n",
      "/Users/olena/anaconda3/envs/python2/lib/python2.7/site-packages/sklearn/cluster/k_means_.py:1328: DeprecationWarning: This function is deprecated. Please call randint(0, 12247 + 1) instead\n",
      "  0, n_samples - 1, self.batch_size)\n",
      "/Users/olena/anaconda3/envs/python2/lib/python2.7/site-packages/sklearn/cluster/k_means_.py:1328: DeprecationWarning: This function is deprecated. Please call randint(0, 12247 + 1) instead\n",
      "  0, n_samples - 1, self.batch_size)\n",
      "/Users/olena/anaconda3/envs/python2/lib/python2.7/site-packages/sklearn/cluster/k_means_.py:1328: DeprecationWarning: This function is deprecated. Please call randint(0, 12247 + 1) instead\n",
      "  0, n_samples - 1, self.batch_size)\n",
      "/Users/olena/anaconda3/envs/python2/lib/python2.7/site-packages/sklearn/cluster/k_means_.py:1328: DeprecationWarning: This function is deprecated. Please call randint(0, 12247 + 1) instead\n",
      "  0, n_samples - 1, self.batch_size)\n",
      "/Users/olena/anaconda3/envs/python2/lib/python2.7/site-packages/sklearn/cluster/k_means_.py:1328: DeprecationWarning: This function is deprecated. Please call randint(0, 12247 + 1) instead\n",
      "  0, n_samples - 1, self.batch_size)\n",
      "/Users/olena/anaconda3/envs/python2/lib/python2.7/site-packages/sklearn/cluster/k_means_.py:1328: DeprecationWarning: This function is deprecated. Please call randint(0, 12247 + 1) instead\n",
      "  0, n_samples - 1, self.batch_size)\n",
      "/Users/olena/anaconda3/envs/python2/lib/python2.7/site-packages/sklearn/cluster/k_means_.py:1328: DeprecationWarning: This function is deprecated. Please call randint(0, 12247 + 1) instead\n",
      "  0, n_samples - 1, self.batch_size)\n"
     ]
    }
   ],
   "source": [
    "train_cluster(kmeans, newsFeatures)"
   ]
  },
  {
   "cell_type": "code",
   "execution_count": 8,
   "metadata": {
    "collapsed": false
   },
   "outputs": [
    {
     "name": "stdout",
     "output_type": "stream",
     "text": [
      "The scikit-learn version is 0.17.1.\n"
     ]
    }
   ],
   "source": [
    "import sklearn\n",
    "print('The scikit-learn version is {}.'.format(sklearn.__version__))"
   ]
  },
  {
   "cell_type": "code",
   "execution_count": 12,
   "metadata": {
    "collapsed": true
   },
   "outputs": [],
   "source": [
    "# Siluette score detection\n",
    "from sklearn.metrics import silhouette_score\n",
    "import warnings\n",
    "\n",
    "def kmeans_silhouette_score(n_clusters, features):\n",
    "    # DeprecationWarning: inside MiniBatchKMeans\n",
    "    warnings.filterwarnings(\"ignore\", category=DeprecationWarning)\n",
    "    kmeans = MiniBatchKMeans(n_clusters=n_clusters)\n",
    "    train_cluster(kmeans, features)\n",
    "    start_prediction = time()\n",
    "    preds = kmeans.predict(features)\n",
    "    end_prediction = time()\n",
    "    print \"Predicted in {:.4f} seconds\".format(end_prediction - start_prediction)\n",
    "    #centers = kmeans.means_ \n",
    "    start_scoring = time()\n",
    "    score = silhouette_score(features, preds)\n",
    "    end_scoring = time()\n",
    "    print \"Scored in {:.4f} seconds\".format(end_scoring - start_scoring)\n",
    "    print \"\\n n_clusters = \" + str(n_clusters)\n",
    "    print \"score: \" + str(score)\n",
    "    "
   ]
  },
  {
   "cell_type": "code",
   "execution_count": 13,
   "metadata": {
    "collapsed": false
   },
   "outputs": [
    {
     "name": "stdout",
     "output_type": "stream",
     "text": [
      "Trained model in 0.0560 seconds\n",
      "Predicted in 0.0283 seconds\n",
      "Scored in 22.7546 seconds\n",
      "\n",
      " n_clusters = 10\n",
      "score: 0.340400751978\n",
      "Trained model in 0.0721 seconds\n",
      "Predicted in 0.0339 seconds\n",
      "Scored in 32.6124 seconds\n",
      "\n",
      " n_clusters = 30\n",
      "score: 0.180097310689\n",
      "Trained model in 0.1036 seconds\n",
      "Predicted in 0.0471 seconds\n",
      "Scored in 39.6094 seconds\n",
      "\n",
      " n_clusters = 50\n",
      "score: 0.237325897282\n",
      "Trained model in 0.1583 seconds\n",
      "Predicted in 0.0736 seconds\n",
      "Scored in 53.0686 seconds\n",
      "\n",
      " n_clusters = 80\n",
      "score: 0.20861309245\n",
      "Trained model in 0.2065 seconds\n",
      "Predicted in 0.0771 seconds\n",
      "Scored in 60.6592 seconds\n",
      "\n",
      " n_clusters = 100\n",
      "score: 0.204751454735\n",
      "Trained model in 0.2825 seconds\n",
      "Predicted in 0.1489 seconds\n",
      "Scored in 80.0106 seconds\n",
      "\n",
      " n_clusters = 150\n",
      "score: 0.219225489466\n",
      "Trained model in 0.5289 seconds\n",
      "Predicted in 0.1974 seconds\n",
      "Scored in 131.0625 seconds\n",
      "\n",
      " n_clusters = 300\n",
      "score: 0.242762398404\n"
     ]
    },
    {
     "data": {
      "text/plain": [
       "[None, None, None, None, None, None, None]"
      ]
     },
     "execution_count": 13,
     "metadata": {},
     "output_type": "execute_result"
    }
   ],
   "source": [
    "[kmeans_silhouette_score(x, newsFeatures) for x in [10, 30, 50, 80, 100, 150, 300]]"
   ]
  },
  {
   "cell_type": "code",
   "execution_count": 14,
   "metadata": {
    "collapsed": false
   },
   "outputs": [
    {
     "name": "stdout",
     "output_type": "stream",
     "text": [
      "Trained model in 0.0436 seconds\n",
      "Predicted in 0.0255 seconds\n",
      "Scored in 22.3645 seconds\n",
      "\n",
      " n_clusters = 7\n",
      "score: 0.171397366161\n",
      "Trained model in 0.0372 seconds\n",
      "Predicted in 0.0229 seconds\n",
      "Scored in 23.1833 seconds\n",
      "\n",
      " n_clusters = 10\n",
      "score: 0.36966315217\n",
      "Trained model in 0.1054 seconds\n",
      "Predicted in 0.0251 seconds\n",
      "Scored in 25.5897 seconds\n",
      "\n",
      " n_clusters = 15\n",
      "score: 0.294070830729\n",
      "Trained model in 0.0585 seconds\n",
      "Predicted in 0.0291 seconds\n",
      "Scored in 27.8441 seconds\n",
      "\n",
      " n_clusters = 20\n",
      "score: 0.225701415135\n",
      "Trained model in 0.0621 seconds\n",
      "Predicted in 0.0313 seconds\n",
      "Scored in 29.2689 seconds\n",
      "\n",
      " n_clusters = 25\n",
      "score: 0.256365011932\n",
      "Trained model in 0.0762 seconds\n",
      "Predicted in 0.0340 seconds\n",
      "Scored in 31.6057 seconds\n",
      "\n",
      " n_clusters = 30\n",
      "score: 0.23317940361\n"
     ]
    },
    {
     "data": {
      "text/plain": [
       "[None, None, None, None, None, None]"
      ]
     },
     "execution_count": 14,
     "metadata": {},
     "output_type": "execute_result"
    }
   ],
   "source": [
    "# Best results for 10 Kmeans clusters. (10 to 30) try to use more from 10 to 30.\n",
    "\n",
    "[kmeans_silhouette_score(x, newsFeatures) for x in [7, 10, 15, 20, 25, 30]]"
   ]
  },
  {
   "cell_type": "code",
   "execution_count": null,
   "metadata": {
    "collapsed": true
   },
   "outputs": [],
   "source": [
    "# TODO: scoring algorithm needed:\n",
    "# 1) build true labels set with manually labeled data\n",
    "# 2) build dataset for labels from manually labeled dataset\n",
    "# 3) find out that for same cluster max similar labeles\n",
    "# 4) find out how many labels/clusters stayed unclassified.\n",
    "# 5) measure the noise"
   ]
  },
  {
   "cell_type": "code",
   "execution_count": null,
   "metadata": {
    "collapsed": true
   },
   "outputs": [],
   "source": [
    "# Outliers detection\n",
    "\n",
    "# TODO: Fit the Data"
   ]
  },
  {
   "cell_type": "code",
   "execution_count": null,
   "metadata": {
    "collapsed": true
   },
   "outputs": [],
   "source": [
    "# TODO: Find out how to visualise clusters.\n",
    "# TODO: What statistic to use.\n"
   ]
  },
  {
   "cell_type": "code",
   "execution_count": null,
   "metadata": {
    "collapsed": true
   },
   "outputs": [],
   "source": [
    "# TODO identify was the clustering good. How many clusters was unclassified? Compares clasters distribution. \n",
    "# Identify early step result."
   ]
  }
 ],
 "metadata": {
  "anaconda-cloud": {},
  "kernelspec": {
   "display_name": "Python [python2]",
   "language": "python",
   "name": "Python [python2]"
  },
  "language_info": {
   "codemirror_mode": {
    "name": "ipython",
    "version": 2
   },
   "file_extension": ".py",
   "mimetype": "text/x-python",
   "name": "python",
   "nbconvert_exporter": "python",
   "pygments_lexer": "ipython2",
   "version": "2.7.12"
  }
 },
 "nbformat": 4,
 "nbformat_minor": 0
}
