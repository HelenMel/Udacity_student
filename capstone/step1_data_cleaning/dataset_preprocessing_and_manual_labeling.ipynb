{
 "cells": [
  {
   "cell_type": "markdown",
   "metadata": {},
   "source": [
    "# Dataset preprocessing and manual labeling #\n",
    "\n",
    "This project starts with defining test set. Main problem is that there are more than\n",
    "12 000 items in this dataset and data is unlabeled. This is why semi-supervised\n",
    "approach will be used. 200 articles will be selected as a test set and labeled manually.\n",
    "This articles will be picked randomly. If by chance, there will be less than 10 'aggressive'\n",
    "texts, testing dataset could be extended manually. If by chance, there will be more than\n",
    "50 'aggressive' texts, some of them should be excluded from testing dataset.\n",
    "\n",
    "Useful columns from ** fake_news.csv ** dataset:\n",
    "\n",
    "** language ** - to filter out non english texts.\n",
    "\n",
    "** type ** - to create 'hate' column, that could be used as benchmark model.\n",
    "\n",
    "** text ** - as a main data source. Rows with empty texts should be removed.\n",
    "\n",
    "new column ** aggressive ** will be created during manual labeling process. Only 200 randomly selected articles will be labeled. This articles will be a test dataset.\n",
    "\n",
    "All the usefull columns and processed data will be saved to ** partially_labeled_news.csv ** file."
   ]
  },
  {
   "cell_type": "code",
   "execution_count": null,
   "metadata": {
    "collapsed": false
   },
   "outputs": [],
   "source": [
    "import numpy as np\n",
    "import pandas as pd\n",
    "\n",
    "rawData = pd.read_csv(\"fake_news.csv\")\n",
    "\n",
    "rawData.head(5)"
   ]
  },
  {
   "cell_type": "code",
   "execution_count": null,
   "metadata": {
    "collapsed": false
   },
   "outputs": [],
   "source": [
    "# remove tab from all texts\n",
    "rawData['text'] = rawData['text'].str.replace('\\t', '')\n",
    "rawData['text'] = rawData['text'].str.replace('\\n', '')"
   ]
  },
  {
   "cell_type": "markdown",
   "metadata": {},
   "source": [
    "## Data filtering ##\n",
    "\n",
    "** Language filter : ** From raw data only english language text could be usefull for us. There is 'language' column, that could help to decide this. Lets check, that final dataset contains only text in english\n"
   ]
  },
  {
   "cell_type": "code",
   "execution_count": null,
   "metadata": {
    "collapsed": false
   },
   "outputs": [],
   "source": [
    "rawData.language.unique()"
   ]
  },
  {
   "cell_type": "code",
   "execution_count": null,
   "metadata": {
    "collapsed": false
   },
   "outputs": [],
   "source": [
    "print(\"before english language filtering: \" + str(rawData.shape[0]))\n",
    "data = rawData[rawData.language == 'english']\n",
    "print(\"after english language filtering: \" + str(data.shape[0]))"
   ]
  },
  {
   "cell_type": "markdown",
   "metadata": {},
   "source": [
    "** Empty text filter : **Also, we need to check, that there is no empty texts or text just with only special characters."
   ]
  },
  {
   "cell_type": "code",
   "execution_count": null,
   "metadata": {
    "collapsed": false
   },
   "outputs": [],
   "source": [
    "print(\"before empty text filtering: \" + str(data.shape[0]))\n",
    "\n",
    "data = data.dropna(subset = ['text'])\n",
    "\n",
    "data = data[data.text.str.strip().map(len) > 3]\n",
    "\n",
    "print(\"after empty text filtering: \" + str(data.shape[0]))"
   ]
  },
  {
   "cell_type": "code",
   "execution_count": null,
   "metadata": {
    "collapsed": false
   },
   "outputs": [],
   "source": [
    "data = data.reset_index(drop=True)"
   ]
  },
  {
   "cell_type": "markdown",
   "metadata": {},
   "source": [
    "## Creating 'hate' column ##\n",
    "\n",
    "** Improve type column :** From 'type' column should be created new column by defining 'hate' or not 'hate'"
   ]
  },
  {
   "cell_type": "code",
   "execution_count": null,
   "metadata": {
    "collapsed": false
   },
   "outputs": [],
   "source": [
    "data['type'].unique()"
   ]
  },
  {
   "cell_type": "code",
   "execution_count": null,
   "metadata": {
    "collapsed": false
   },
   "outputs": [],
   "source": [
    "data['hate'] = data['type'].apply(lambda x: 1 if (x == 'hate') else 0)"
   ]
  },
  {
   "cell_type": "code",
   "execution_count": null,
   "metadata": {
    "collapsed": true
   },
   "outputs": [],
   "source": [
    "def printHateStatistics(dt):\n",
    "    nHate = dt[dt['hate'] == 1].shape[0]\n",
    "    nNoneHate = dt[dt['hate'] == 0].shape[0]\n",
    "    print(\"total hate messages: \" + str(nHate))\n",
    "    print(\"total nonhate messages: \" + str(nNoneHate))\n",
    "    print(\"hate messages %: \" + str( 100.0 * nHate / (nHate + nNoneHate)))"
   ]
  },
  {
   "cell_type": "code",
   "execution_count": null,
   "metadata": {
    "collapsed": false
   },
   "outputs": [],
   "source": [
    "printHateStatistics(data)"
   ]
  },
  {
   "cell_type": "code",
   "execution_count": null,
   "metadata": {
    "collapsed": false,
    "scrolled": true
   },
   "outputs": [],
   "source": [
    "data = data.ix[:, ['text', 'hate']]\n",
    "data['aggressive'] = pd.Series(np.NaN, index = data.index)\n",
    "data.head(5)"
   ]
  },
  {
   "cell_type": "markdown",
   "metadata": {},
   "source": [
    "Finally, save prepeared dataset to file"
   ]
  },
  {
   "cell_type": "code",
   "execution_count": null,
   "metadata": {
    "collapsed": true
   },
   "outputs": [],
   "source": [
    "data.to_csv('partially_labeled_news.csv', sep='\\t', index=False)"
   ]
  },
  {
   "cell_type": "markdown",
   "metadata": {},
   "source": [
    "## Manual labeling procedure ##"
   ]
  },
  {
   "cell_type": "markdown",
   "metadata": {},
   "source": [
    "Load data from file to start/continue data labeling"
   ]
  },
  {
   "cell_type": "code",
   "execution_count": 2,
   "metadata": {
    "collapsed": false
   },
   "outputs": [],
   "source": [
    "import numpy as np\n",
    "import pandas as pd\n",
    "\n",
    "unlabeledData = pd.read_csv('partially_labeled_news.csv', sep='\\t')"
   ]
  },
  {
   "cell_type": "code",
   "execution_count": 3,
   "metadata": {
    "collapsed": true
   },
   "outputs": [],
   "source": [
    "randomState = 2017"
   ]
  },
  {
   "cell_type": "code",
   "execution_count": 4,
   "metadata": {
    "collapsed": false
   },
   "outputs": [
    {
     "data": {
      "text/html": [
       "<div>\n",
       "<table border=\"1\" class=\"dataframe\">\n",
       "  <thead>\n",
       "    <tr style=\"text-align: right;\">\n",
       "      <th></th>\n",
       "      <th>text</th>\n",
       "      <th>hate</th>\n",
       "      <th>aggressive</th>\n",
       "    </tr>\n",
       "  </thead>\n",
       "  <tbody>\n",
       "    <tr>\n",
       "      <th>4270</th>\n",
       "      <td>October 26, 2016 Trump Has Hissy Fit After Rep...</td>\n",
       "      <td>0</td>\n",
       "      <td>1.0</td>\n",
       "    </tr>\n",
       "    <tr>\n",
       "      <th>719</th>\n",
       "      <td>N379P / Piper PA-46-350P Malibu Mirageand Flig...</td>\n",
       "      <td>0</td>\n",
       "      <td>0.0</td>\n",
       "    </tr>\n",
       "    <tr>\n",
       "      <th>5653</th>\n",
       "      <td>Share This There are so many reasons Americans...</td>\n",
       "      <td>0</td>\n",
       "      <td>1.0</td>\n",
       "    </tr>\n",
       "    <tr>\n",
       "      <th>8766</th>\n",
       "      <td>UK economy running as mysteriously as a 1993 V...</td>\n",
       "      <td>0</td>\n",
       "      <td>0.0</td>\n",
       "    </tr>\n",
       "    <tr>\n",
       "      <th>7482</th>\n",
       "      <td>It wasn’t long ago that the Left represented t...</td>\n",
       "      <td>1</td>\n",
       "      <td>0.0</td>\n",
       "    </tr>\n",
       "  </tbody>\n",
       "</table>\n",
       "</div>"
      ],
      "text/plain": [
       "                                                   text  hate  aggressive\n",
       "4270  October 26, 2016 Trump Has Hissy Fit After Rep...     0         1.0\n",
       "719   N379P / Piper PA-46-350P Malibu Mirageand Flig...     0         0.0\n",
       "5653  Share This There are so many reasons Americans...     0         1.0\n",
       "8766  UK economy running as mysteriously as a 1993 V...     0         0.0\n",
       "7482  It wasn’t long ago that the Left represented t...     1         0.0"
      ]
     },
     "execution_count": 4,
     "metadata": {},
     "output_type": "execute_result"
    }
   ],
   "source": [
    "testSet = unlabeledData.sample(n = 200, random_state= randomState)\n",
    "\n",
    "testSet.head()"
   ]
  },
  {
   "cell_type": "markdown",
   "metadata": {},
   "source": [
    "Expected to see 2% of hate messages: at least 4 messages. If there are 0 hate messages, than this set could not be used as a test set."
   ]
  },
  {
   "cell_type": "code",
   "execution_count": null,
   "metadata": {
    "collapsed": false
   },
   "outputs": [],
   "source": [
    "printHateStatistics(testSet)"
   ]
  },
  {
   "cell_type": "code",
   "execution_count": null,
   "metadata": {
    "collapsed": false
   },
   "outputs": [],
   "source": [
    "def labelNext(dataSet): \n",
    "    total = dataSet[dataSet.aggressive.isnull()]\n",
    "    index = total.index[0]\n",
    "    print(\"Left : \" + str(total.shape[0]))\n",
    "    print(\"Next index to analyse \" + str(index))\n",
    "    print dataSet.loc[index].text\n",
    "    return (int(input(\"How mark this text? \")), index)"
   ]
  },
  {
   "cell_type": "markdown",
   "metadata": {},
   "source": [
    "Repeat next cell until there are no unlabeled rows left."
   ]
  },
  {
   "cell_type": "code",
   "execution_count": null,
   "metadata": {
    "collapsed": false,
    "scrolled": false
   },
   "outputs": [],
   "source": [
    "inputResult, textIdx = labelNext(testSet)\n",
    "testSet.loc[textIdx, 'aggressive'] = inputResult\n",
    "unlabeledData.loc[textIdx, 'aggressive'] = inputResult\n",
    "print testSet.loc[textIdx]"
   ]
  },
  {
   "cell_type": "markdown",
   "metadata": {},
   "source": [
    "All items from testSet should be labeled"
   ]
  },
  {
   "cell_type": "code",
   "execution_count": null,
   "metadata": {
    "collapsed": false
   },
   "outputs": [],
   "source": [
    "def printAggressiveStatistics(dt):\n",
    "    nAggresive = dt[dt['aggressive'] == 1].shape[0]\n",
    "    nNoneAggresive = dt[dt['aggressive'] == 0].shape[0]\n",
    "    print(\"total aggressive messages: \" + str(nAggresive))\n",
    "    print(\"total nonaggressive messages: \" + str(nNoneAggresive))\n",
    "    print(\"aggressive messages %: \" + str( 100.0 * nAggresive / (nAggresive + nNoneAggresive)))\n",
    "    \n",
    "printAggressiveStatistics(unlabeledData)\n"
   ]
  },
  {
   "cell_type": "markdown",
   "metadata": {},
   "source": [
    "Check, that there are no error input with with unexpected values"
   ]
  },
  {
   "cell_type": "code",
   "execution_count": null,
   "metadata": {
    "collapsed": false
   },
   "outputs": [],
   "source": [
    "unlabeledData['aggressive'].unique()"
   ]
  },
  {
   "cell_type": "markdown",
   "metadata": {},
   "source": [
    "## Save result set to file ##"
   ]
  },
  {
   "cell_type": "code",
   "execution_count": 1,
   "metadata": {
    "collapsed": false
   },
   "outputs": [
    {
     "ename": "NameError",
     "evalue": "name 'unlabeledData' is not defined",
     "output_type": "error",
     "traceback": [
      "\u001b[0;31m---------------------------------------------------------------------------\u001b[0m",
      "\u001b[0;31mNameError\u001b[0m                                 Traceback (most recent call last)",
      "\u001b[0;32m<ipython-input-1-c7881471a8dc>\u001b[0m in \u001b[0;36m<module>\u001b[0;34m()\u001b[0m\n\u001b[0;32m----> 1\u001b[0;31m \u001b[0munlabeledData\u001b[0m\u001b[0;34m.\u001b[0m\u001b[0mto_csv\u001b[0m\u001b[0;34m(\u001b[0m\u001b[0;34m'partially_labeled_news.csv'\u001b[0m\u001b[0;34m,\u001b[0m \u001b[0msep\u001b[0m\u001b[0;34m=\u001b[0m\u001b[0;34m'\\t'\u001b[0m\u001b[0;34m,\u001b[0m \u001b[0mindex\u001b[0m\u001b[0;34m=\u001b[0m\u001b[0mFalse\u001b[0m\u001b[0;34m)\u001b[0m\u001b[0;34m\u001b[0m\u001b[0m\n\u001b[0m",
      "\u001b[0;31mNameError\u001b[0m: name 'unlabeledData' is not defined"
     ]
    }
   ],
   "source": [
    "unlabeledData.to_csv('partially_labeled_news.csv', sep='\\t', index=False)"
   ]
  },
  {
   "cell_type": "code",
   "execution_count": null,
   "metadata": {
    "collapsed": true
   },
   "outputs": [],
   "source": []
  }
 ],
 "metadata": {
  "anaconda-cloud": {},
  "kernelspec": {
   "display_name": "Python [python2]",
   "language": "python",
   "name": "Python [python2]"
  },
  "language_info": {
   "codemirror_mode": {
    "name": "ipython",
    "version": 2
   },
   "file_extension": ".py",
   "mimetype": "text/x-python",
   "name": "python",
   "nbconvert_exporter": "python",
   "pygments_lexer": "ipython2",
   "version": "2.7.12"
  }
 },
 "nbformat": 4,
 "nbformat_minor": 0
}
